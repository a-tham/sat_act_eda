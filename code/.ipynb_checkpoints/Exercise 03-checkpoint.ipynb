{
 "cells": [
  {
   "cell_type": "markdown",
   "metadata": {},
   "source": [
    "### Exercise 1 :\n",
    "\n",
    "Write a function taking a parameter n and printing a staircase of n levels.\n",
    "You should get something like this :\n",
    "\n",
    "     #\n",
    "   ##\n",
    "  ###\n",
    " ####"
   ]
  },
  {
   "cell_type": "code",
   "execution_count": 42,
   "metadata": {},
   "outputs": [],
   "source": [
    "def stairs(n):\n",
    "    count = 1\n",
    "    while n != 0:\n",
    "        print((n-count)*' '+ count*'#'+'\\n')\n",
    "        n -= 1\n",
    "        count += 1"
   ]
  },
  {
   "cell_type": "code",
   "execution_count": 46,
   "metadata": {},
   "outputs": [],
   "source": [
    "def ex1(n):\n",
    "    count = 0\n",
    "    while count < n:\n",
    "        count += 1\n",
    "        print((n-count)*' ' + count * '#')"
   ]
  },
  {
   "cell_type": "code",
   "execution_count": 48,
   "metadata": {},
   "outputs": [
    {
     "name": "stdout",
     "output_type": "stream",
     "text": [
      "  #\n",
      " ##\n",
      "###\n"
     ]
    }
   ],
   "source": [
    "ex1(3)"
   ]
  },
  {
   "cell_type": "markdown",
   "metadata": {},
   "source": [
    "### Exercise 2 :\n",
    "\n",
    "Given a list of 5 integers, find the minimum and maximum values that can be calculated by summing exactly four of the 5 integers."
   ]
  },
  {
   "cell_type": "code",
   "execution_count": 30,
   "metadata": {},
   "outputs": [],
   "source": [
    "nums = [10, 11, 12, 14, 28]\n",
    "\n",
    "def number(data):\n",
    "    maximum = sum(data) - min(data)\n",
    "    minimum = sum(data) - max(data)\n",
    "    print(\"Maximum: {}, Minimum: {}\".format(maximum, minimum))"
   ]
  },
  {
   "cell_type": "code",
   "execution_count": 31,
   "metadata": {},
   "outputs": [
    {
     "name": "stdout",
     "output_type": "stream",
     "text": [
      "Maximum: 65, Minimum: 47\n"
     ]
    }
   ],
   "source": [
    "number(nums)"
   ]
  }
 ],
 "metadata": {
  "kernelspec": {
   "display_name": "Python 3",
   "language": "python",
   "name": "python3"
  },
  "language_info": {
   "codemirror_mode": {
    "name": "ipython",
    "version": 3
   },
   "file_extension": ".py",
   "mimetype": "text/x-python",
   "name": "python",
   "nbconvert_exporter": "python",
   "pygments_lexer": "ipython3",
   "version": "3.6.8"
  }
 },
 "nbformat": 4,
 "nbformat_minor": 2
}
